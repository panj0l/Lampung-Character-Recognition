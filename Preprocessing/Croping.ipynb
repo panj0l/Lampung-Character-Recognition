{
 "cells": [
  {
   "cell_type": "code",
   "execution_count": 3,
   "metadata": {},
   "outputs": [],
   "source": [
    "# import the necessary packages\n",
    "import cv2"
   ]
  },
  {
   "cell_type": "code",
   "execution_count": 824,
   "metadata": {},
   "outputs": [],
   "source": [
    "def croping():\n",
    "\n",
    "    # load the image and show it\n",
    "    image = cv2.imread(\"hampir/yo_6.png\")\n",
    "    #cv2.imshow(\"original\", image)\n",
    "    cropped = image[12:36,0:35]\n",
    "    #heightstart:heightend , widthstart:widthend\n",
    "    cv2.imshow(\"cropped\", cropped)\n",
    "    cv2.imwrite(\"hampir/yo_6.png\", cropped)\n",
    "    cv2.waitKey(0)\n",
    "    return"
   ]
  },
  {
   "cell_type": "code",
   "execution_count": 825,
   "metadata": {},
   "outputs": [],
   "source": [
    "croping()"
   ]
  },
  {
   "cell_type": "code",
   "execution_count": null,
   "metadata": {},
   "outputs": [],
   "source": []
  },
  {
   "cell_type": "code",
   "execution_count": null,
   "metadata": {},
   "outputs": [],
   "source": []
  }
 ],
 "metadata": {
  "kernelspec": {
   "display_name": "Python 3",
   "language": "python",
   "name": "python3"
  },
  "language_info": {
   "codemirror_mode": {
    "name": "ipython",
    "version": 3
   },
   "file_extension": ".py",
   "mimetype": "text/x-python",
   "name": "python",
   "nbconvert_exporter": "python",
   "pygments_lexer": "ipython3",
   "version": "3.7.3"
  }
 },
 "nbformat": 4,
 "nbformat_minor": 2
}
